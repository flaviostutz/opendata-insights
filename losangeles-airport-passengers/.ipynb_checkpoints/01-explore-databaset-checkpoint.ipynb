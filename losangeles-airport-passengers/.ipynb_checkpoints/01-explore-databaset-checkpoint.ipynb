{
 "cells": [
  {
   "cell_type": "markdown",
   "id": "a04ad7a5",
   "metadata": {},
   "source": [
    "### Insights over opendata for Los Angeles airport terminal passengers\n",
    "\n",
    "Data downloaded from https://data.lacity.org/Transportation"
   ]
  },
  {
   "cell_type": "code",
   "execution_count": 23,
   "id": "2205c3a2",
   "metadata": {},
   "outputs": [],
   "source": [
    "import requests\n",
    "import os\n",
    "import pandas as pd\n",
    "\n",
    "if not os.path.exists('.downloads'):\n",
    "    os.mkdir(\".downloads\")"
   ]
  },
  {
   "cell_type": "code",
   "execution_count": 24,
   "id": "96e29f7b",
   "metadata": {},
   "outputs": [
    {
     "data": {
      "text/plain": [
       "92502"
      ]
     },
     "execution_count": 24,
     "metadata": {},
     "output_type": "execute_result"
    }
   ],
   "source": [
    "response = requests.get(\"https://data.lacity.org/resource/g3qu-7q2u.csv\")\n",
    "open(\".downloads/data.csv\", \"wb\").write(response.content)"
   ]
  },
  {
   "cell_type": "code",
   "execution_count": 25,
   "id": "98b53ab4",
   "metadata": {},
   "outputs": [
    {
     "data": {
      "text/html": [
       "<div>\n",
       "<style scoped>\n",
       "    .dataframe tbody tr th:only-of-type {\n",
       "        vertical-align: middle;\n",
       "    }\n",
       "\n",
       "    .dataframe tbody tr th {\n",
       "        vertical-align: top;\n",
       "    }\n",
       "\n",
       "    .dataframe thead th {\n",
       "        text-align: right;\n",
       "    }\n",
       "</style>\n",
       "<table border=\"1\" class=\"dataframe\">\n",
       "  <thead>\n",
       "    <tr style=\"text-align: right;\">\n",
       "      <th></th>\n",
       "      <th>dataextractdate</th>\n",
       "      <th>reportperiod</th>\n",
       "      <th>terminal</th>\n",
       "      <th>arrival_departure</th>\n",
       "      <th>domestic_international</th>\n",
       "      <th>passenger_count</th>\n",
       "    </tr>\n",
       "  </thead>\n",
       "  <tbody>\n",
       "    <tr>\n",
       "      <th>0</th>\n",
       "      <td>2021-05-10T06:01:09.000</td>\n",
       "      <td>2021-04-01T00:00:00.000</td>\n",
       "      <td>T1</td>\n",
       "      <td>Departure</td>\n",
       "      <td>Domestic</td>\n",
       "      <td>160413</td>\n",
       "    </tr>\n",
       "    <tr>\n",
       "      <th>1</th>\n",
       "      <td>2021-05-03T15:08:02.000</td>\n",
       "      <td>2021-03-01T00:00:00.000</td>\n",
       "      <td>T5</td>\n",
       "      <td>Departure</td>\n",
       "      <td>Domestic</td>\n",
       "      <td>223866</td>\n",
       "    </tr>\n",
       "    <tr>\n",
       "      <th>2</th>\n",
       "      <td>2021-05-27T15:16:34.000</td>\n",
       "      <td>2021-04-01T00:00:00.000</td>\n",
       "      <td>T5</td>\n",
       "      <td>Departure</td>\n",
       "      <td>Domestic</td>\n",
       "      <td>266035</td>\n",
       "    </tr>\n",
       "    <tr>\n",
       "      <th>3</th>\n",
       "      <td>2021-07-10T06:01:27.000</td>\n",
       "      <td>2021-06-01T00:00:00.000</td>\n",
       "      <td>T6</td>\n",
       "      <td>Arrival</td>\n",
       "      <td>International</td>\n",
       "      <td>6195</td>\n",
       "    </tr>\n",
       "    <tr>\n",
       "      <th>4</th>\n",
       "      <td>2021-05-10T06:01:09.000</td>\n",
       "      <td>2021-04-01T00:00:00.000</td>\n",
       "      <td>T8</td>\n",
       "      <td>Arrival</td>\n",
       "      <td>Domestic</td>\n",
       "      <td>54925</td>\n",
       "    </tr>\n",
       "  </tbody>\n",
       "</table>\n",
       "</div>"
      ],
      "text/plain": [
       "           dataextractdate             reportperiod terminal  \\\n",
       "0  2021-05-10T06:01:09.000  2021-04-01T00:00:00.000       T1   \n",
       "1  2021-05-03T15:08:02.000  2021-03-01T00:00:00.000       T5   \n",
       "2  2021-05-27T15:16:34.000  2021-04-01T00:00:00.000       T5   \n",
       "3  2021-07-10T06:01:27.000  2021-06-01T00:00:00.000       T6   \n",
       "4  2021-05-10T06:01:09.000  2021-04-01T00:00:00.000       T8   \n",
       "\n",
       "  arrival_departure domestic_international  passenger_count  \n",
       "0         Departure               Domestic           160413  \n",
       "1         Departure               Domestic           223866  \n",
       "2         Departure               Domestic           266035  \n",
       "3           Arrival          International             6195  \n",
       "4           Arrival               Domestic            54925  "
      ]
     },
     "execution_count": 25,
     "metadata": {},
     "output_type": "execute_result"
    }
   ],
   "source": [
    "df = pd.read_csv('.downloads/data.csv')\n",
    "df.head()"
   ]
  },
  {
   "cell_type": "code",
   "execution_count": 30,
   "id": "fdfee8e2",
   "metadata": {},
   "outputs": [],
   "source": []
  },
  {
   "cell_type": "code",
   "execution_count": null,
   "id": "8e76e5aa",
   "metadata": {},
   "outputs": [],
   "source": []
  }
 ],
 "metadata": {
  "kernelspec": {
   "display_name": "conda_python3",
   "language": "python",
   "name": "conda_python3"
  },
  "language_info": {
   "codemirror_mode": {
    "name": "ipython",
    "version": 3
   },
   "file_extension": ".py",
   "mimetype": "text/x-python",
   "name": "python",
   "nbconvert_exporter": "python",
   "pygments_lexer": "ipython3",
   "version": "3.8.12"
  }
 },
 "nbformat": 4,
 "nbformat_minor": 5
}
